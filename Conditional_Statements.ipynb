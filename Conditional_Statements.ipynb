{
  "nbformat": 4,
  "nbformat_minor": 0,
  "metadata": {
    "colab": {
      "provenance": [],
      "authorship_tag": "ABX9TyMnQjPFHq4blSr//nvTf6Yt",
      "include_colab_link": true
    },
    "kernelspec": {
      "name": "python3",
      "display_name": "Python 3"
    },
    "language_info": {
      "name": "python"
    }
  },
  "cells": [
    {
      "cell_type": "markdown",
      "metadata": {
        "id": "view-in-github",
        "colab_type": "text"
      },
      "source": [
        "<a href=\"https://colab.research.google.com/github/KhushbooChaudhari10/Fixie-The-Project-Reviewer/blob/main/Conditional_Statements.ipynb\" target=\"_parent\"><img src=\"https://colab.research.google.com/assets/colab-badge.svg\" alt=\"Open In Colab\"/></a>"
      ]
    },
    {
      "cell_type": "code",
      "execution_count": 1,
      "metadata": {
        "colab": {
          "base_uri": "https://localhost:8080/"
        },
        "id": "GbzWweNzOYyF",
        "outputId": "c4344e7c-c915-4992-ae98-35260bee8a1e"
      },
      "outputs": [
        {
          "output_type": "stream",
          "name": "stdout",
          "text": [
            "Enter an integer: 10\n",
            "Positive\n"
          ]
        }
      ],
      "source": [
        "# Use if, else, and elif to write a program that takes an integer and prints whether it's:\n",
        "\n",
        "# Positive\n",
        "\n",
        "# Negative\n",
        "\n",
        "# Zero\n",
        "\n",
        "integer = int(input(\"Enter an integer: \"))\n",
        "\n",
        "if integer > 0:\n",
        "    print(\"Positive\")\n",
        "elif integer < 0:\n",
        "    print(\"Negative\")\n",
        "else:\n",
        "    print(\"Zero\")"
      ]
    },
    {
      "cell_type": "code",
      "source": [
        "# Even or Odd Checker\n",
        "# Take an integer input from the user and print whether it is even or odd.\n",
        "\n",
        "integer = int(input(\"Enter an integer: \"))\n",
        "\n",
        "if integer % 2 == 0:\n",
        "    print(\"Even\")\n",
        "else:\n",
        "    print(\"Odd\")"
      ],
      "metadata": {
        "colab": {
          "base_uri": "https://localhost:8080/"
        },
        "id": "LnjM0z71PKzS",
        "outputId": "f63af279-57d9-4950-aaaf-935827c297b8"
      },
      "execution_count": 3,
      "outputs": [
        {
          "output_type": "stream",
          "name": "stdout",
          "text": [
            "Enter an integer: 3\n",
            "Odd\n"
          ]
        }
      ]
    },
    {
      "cell_type": "code",
      "source": [
        "# Age Category\n",
        "# Take age as input and print:\n",
        "\n",
        "# \"Child\" if age < 13\n",
        "\n",
        "# \"Teen\" if 13 ≤ age < 20\n",
        "\n",
        "# \"Adult\" if 20 ≤ age < 60\n",
        "\n",
        "# \"Senior\" if age ≥ 60\n",
        "\n",
        "age = int(input(\"Enter Your age: \"))\n",
        "if age < 13:\n",
        "  print(\"Child\")\n",
        "elif age >= 13 and age < 20:\n",
        "  print(\"Teen\")\n",
        "elif age >= 20 and age < 60:\n",
        "  print(\"Adult\")\n",
        "else:\n",
        "  print(\"Senior\")"
      ],
      "metadata": {
        "colab": {
          "base_uri": "https://localhost:8080/"
        },
        "id": "h2i9VYJqPdHr",
        "outputId": "12286488-7754-453b-b317-51aeaeb5cc18"
      },
      "execution_count": 4,
      "outputs": [
        {
          "output_type": "stream",
          "name": "stdout",
          "text": [
            "Enter Your age: 23\n",
            "Adult\n"
          ]
        }
      ]
    },
    {
      "cell_type": "code",
      "source": [
        "# Check Leap Year\n",
        "# Take a year as input and check if it's a leap year using if-elif-else.\n",
        "\n",
        "year = int(input(\"Enter a year: \"))\n",
        "if (year % 4 == 0 and year % 100 != 0) or (year % 400 == 0):\n",
        "    print(\"Leap Year\")\n",
        "else:\n",
        "    print(\"Not a Leap Year\")"
      ],
      "metadata": {
        "colab": {
          "base_uri": "https://localhost:8080/"
        },
        "id": "A6z5gyICQa0A",
        "outputId": "0006dc4f-f877-418c-ff37-179215797924"
      },
      "execution_count": 5,
      "outputs": [
        {
          "output_type": "stream",
          "name": "stdout",
          "text": [
            "Enter a year: 2025\n",
            "Not a Leap Year\n"
          ]
        }
      ]
    },
    {
      "cell_type": "code",
      "source": [
        "# Find the Greatest of Two Numbers\n",
        "# Take two numbers as input and print the greater one.\n",
        "a = int(input(\"Enter a number1: \"))\n",
        "b = int(input(\"Enter a number2: \"))\n",
        "if a > b:\n",
        "    print(a)\n",
        "else:\n",
        "    print(b)\n"
      ],
      "metadata": {
        "colab": {
          "base_uri": "https://localhost:8080/"
        },
        "id": "lAf9rrwtQrV1",
        "outputId": "a37f4577-2d8a-454a-8bd1-0e40d2c895a1"
      },
      "execution_count": 7,
      "outputs": [
        {
          "output_type": "stream",
          "name": "stdout",
          "text": [
            "Enter a number1: 10\n",
            "Enter a number2: 20\n",
            "20\n"
          ]
        }
      ]
    },
    {
      "cell_type": "code",
      "source": [
        "# Find the Greatest of Three Numbers\n",
        "# Take three numbers as input and use conditional statements to print the largest.\n",
        "\n",
        "a = int(input(\"Enter a number1: \"))\n",
        "b = int(input(\"Enter a number2: \"))\n",
        "c = int(input(\"Enter a number3: \"))\n",
        "if a > b and a > c:\n",
        "    print(a)\n",
        "elif b > a and b > c:\n",
        "    print(b)\n",
        "else:\n",
        "    print(c)"
      ],
      "metadata": {
        "colab": {
          "base_uri": "https://localhost:8080/"
        },
        "id": "Nyvu-4FOUH66",
        "outputId": "3418daae-25c1-420f-da36-d572a0f74eb4"
      },
      "execution_count": 8,
      "outputs": [
        {
          "output_type": "stream",
          "name": "stdout",
          "text": [
            "Enter a number1: 10\n",
            "Enter a number2: 5\n",
            "Enter a number3: 25\n",
            "25\n"
          ]
        }
      ]
    },
    {
      "cell_type": "code",
      "source": [
        "# Simple Calculator\n",
        "# Take two numbers and an operator (+, -, *, /). Use if-elif-else to perform the correct operation.\n",
        "\n",
        "a = int(input(\"Enter a number1: \"))\n",
        "b = int(input(\"Enter a number2: \"))\n",
        "operator = input(\"Enter an operator: \")\n",
        "if operator == \"+\":\n",
        "    print(a + b)\n",
        "elif operator == \"-\":\n",
        "    print(a - b)\n",
        "elif operator == \"*\":\n",
        "    print(a * b)\n",
        "elif operator == \"/\":\n",
        "  if b == 0:\n",
        "    print(\"Cannot divide by zero\")\n",
        "  else:\n",
        "    print(a / b)\n",
        "else:\n",
        "    print(\"Invalid operator\")"
      ],
      "metadata": {
        "colab": {
          "base_uri": "https://localhost:8080/"
        },
        "id": "Q3edo_4mU_rr",
        "outputId": "91886b79-617a-4da9-bc01-b28c0835ce21"
      },
      "execution_count": 10,
      "outputs": [
        {
          "output_type": "stream",
          "name": "stdout",
          "text": [
            "Enter a number1: 5\n",
            "Enter a number2: 0\n",
            "Enter an operator: /\n",
            "Cannot divide by zero\n"
          ]
        }
      ]
    },
    {
      "cell_type": "code",
      "source": [
        "# Pass/Fail Checker\n",
        "# Take a student's marks and check:\n",
        "\n",
        "# \"Pass\" if marks ≥ 33\n",
        "\n",
        "# \"Fail\" if marks < 33\n",
        "\n"
      ],
      "metadata": {
        "id": "TgkTtzBvVOst"
      },
      "execution_count": null,
      "outputs": []
    }
  ]
}